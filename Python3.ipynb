{
  "nbformat": 4,
  "nbformat_minor": 0,
  "metadata": {
    "colab": {
      "provenance": [],
      "toc_visible": true,
      "authorship_tag": "ABX9TyObn8UXmjobt4i0k/WIWkwu",
      "include_colab_link": true
    },
    "kernelspec": {
      "name": "python3",
      "display_name": "Python 3"
    },
    "language_info": {
      "name": "python"
    }
  },
  "cells": [
    {
      "cell_type": "markdown",
      "metadata": {
        "id": "view-in-github",
        "colab_type": "text"
      },
      "source": [
        "<a href=\"https://colab.research.google.com/github/rafapupoh/rafapupoh/blob/main/Python3.ipynb\" target=\"_parent\"><img src=\"https://colab.research.google.com/assets/colab-badge.svg\" alt=\"Open In Colab\"/></a>"
      ]
    },
    {
      "cell_type": "code",
      "execution_count": null,
      "metadata": {
        "id": "_Vq55l5hzLOk"
      },
      "outputs": [],
      "source": [
        "#Dados Meterológicos 2021 - Fase 1"
      ]
    },
    {
      "cell_type": "markdown",
      "source": [],
      "metadata": {
        "id": "WswGuJLqz9o6"
      }
    },
    {
      "cell_type": "markdown",
      "source": [],
      "metadata": {
        "id": "gkO-OJjqz-an"
      }
    },
    {
      "cell_type": "code",
      "source": [
        "def validar_mes(mes):\n",
        "  #validar entre 1 e 12 #\n",
        "  if 1 <= mes <= 12:\n",
        "    return True\n",
        "  else:\n",
        "    return False"
      ],
      "metadata": {
        "id": "t3NL92DFz_n9"
      },
      "execution_count": null,
      "outputs": []
    },
    {
      "cell_type": "markdown",
      "source": [],
      "metadata": {
        "id": "54owgig-Zwli"
      }
    },
    {
      "cell_type": "code",
      "source": [
        "def validar_temperatura(temperatura):\n",
        "    \"\"\"Valida se a temperatura está entre -60°C e 50°C.\"\"\"\n",
        "    if -60 <= temperatura <= 50:\n",
        "        return True\n",
        "    else:\n",
        "        return False"
      ],
      "metadata": {
        "id": "wjMmuZjKZ2e7"
      },
      "execution_count": 1,
      "outputs": []
    },
    {
      "cell_type": "code",
      "source": [
        "temperaturas = []\n",
        "meses = []\n",
        "for i in range(12):\n",
        "    while True:\n",
        "        try:\n",
        "            mes = int(input(f\"Digite o número do mês {i + 1} (1-12): \"))\n",
        "            if validar_mes(mes):\n",
        "                break\n",
        "            else:\n",
        "                print(\"Mês inválido. Digite um número entre 1 e 12.\")\n",
        "        except ValueError:\n",
        "            print(\"Entrada inválida. Digite um número inteiro.\")\n",
        "    meses.append(mes)\n",
        "    while True:\n",
        "        try:\n",
        "            temperatura = float(input(f\"Digite a temperatura máxima do mês {mes}: \"))\n",
        "            if validar_temperatura(temperatura):\n",
        "                break\n",
        "            else:\n",
        "                print(\"Temperatura inválida. Digite um valor entre -60°C e 50°C.\")\n",
        "        except ValueError:\n",
        "            print(\"Entrada inválida. Digite um número.\")\n",
        "    temperaturas.append(temperatura)"
      ],
      "metadata": {
        "colab": {
          "base_uri": "https://localhost:8080/",
          "height": 228
        },
        "id": "evgQSU6TZ-ia",
        "outputId": "bd599b35-afbd-42d9-fdc9-981170d5ce60"
      },
      "execution_count": 3,
      "outputs": [
        {
          "name": "stdout",
          "output_type": "stream",
          "text": [
            "Digite o número do mês 1 (1-12): 12\n"
          ]
        },
        {
          "output_type": "error",
          "ename": "NameError",
          "evalue": "name 'validar_mes' is not defined",
          "traceback": [
            "\u001b[0;31m---------------------------------------------------------------------------\u001b[0m",
            "\u001b[0;31mNameError\u001b[0m                                 Traceback (most recent call last)",
            "\u001b[0;32m<ipython-input-3-a6b44df3f9a2>\u001b[0m in \u001b[0;36m<cell line: 0>\u001b[0;34m()\u001b[0m\n\u001b[1;32m      5\u001b[0m         \u001b[0;32mtry\u001b[0m\u001b[0;34m:\u001b[0m\u001b[0;34m\u001b[0m\u001b[0;34m\u001b[0m\u001b[0m\n\u001b[1;32m      6\u001b[0m             \u001b[0mmes\u001b[0m \u001b[0;34m=\u001b[0m \u001b[0mint\u001b[0m\u001b[0;34m(\u001b[0m\u001b[0minput\u001b[0m\u001b[0;34m(\u001b[0m\u001b[0;34mf\"Digite o número do mês {i + 1} (1-12): \"\u001b[0m\u001b[0;34m)\u001b[0m\u001b[0;34m)\u001b[0m\u001b[0;34m\u001b[0m\u001b[0;34m\u001b[0m\u001b[0m\n\u001b[0;32m----> 7\u001b[0;31m             \u001b[0;32mif\u001b[0m \u001b[0mvalidar_mes\u001b[0m\u001b[0;34m(\u001b[0m\u001b[0mmes\u001b[0m\u001b[0;34m)\u001b[0m\u001b[0;34m:\u001b[0m\u001b[0;34m\u001b[0m\u001b[0;34m\u001b[0m\u001b[0m\n\u001b[0m\u001b[1;32m      8\u001b[0m                 \u001b[0;32mbreak\u001b[0m\u001b[0;34m\u001b[0m\u001b[0;34m\u001b[0m\u001b[0m\n\u001b[1;32m      9\u001b[0m             \u001b[0;32melse\u001b[0m\u001b[0;34m:\u001b[0m\u001b[0;34m\u001b[0m\u001b[0;34m\u001b[0m\u001b[0m\n",
            "\u001b[0;31mNameError\u001b[0m: name 'validar_mes' is not defined"
          ]
        }
      ]
    },
    {
      "cell_type": "code",
      "source": [
        "# Análise de Dados Meteorológicos 2021 - Fase 1\n",
        "\n",
        "# Este notebook contém a solução para a Fase 1 do projeto, onde coletamos, validamos e analisamos dados meteorológicos inseridos pelo usuário.\n",
        "\n",
        "# Requisitos\n",
        "# * Coletar o número do mês (1-12) e a temperatura máxima (Celsius) para cada mês de 2021.\n",
        "# * Validar as entradas para garantir que estejam dentro dos limites aceitáveis.\n",
        "# * Calcular a temperatura média máxima anual.\n",
        "# * Contar quantos meses tiveram temperaturas máximas acima de 33°C.\n",
        "# * Identificar e exibir o mês mais quente e o mês mais frio.\n",
        "# * Exibir os resultados de forma clara.\n",
        "\n",
        "def validar_mes(mes):\n",
        "    \"\"\"\n",
        "    Valida se o mês está entre 1 e 12.\n",
        "\n",
        "    Exemplo de uso:\n",
        "    validar_mes(5)  # Retorna True\n",
        "    validar_mes(13) # Retorna False\n",
        "\n",
        "    A validação é importante para garantir que o programa processe apenas\n",
        "    números de meses válidos, evitando erros e inconsistências nos dados.\n",
        "    \"\"\"\n",
        "    if 1 <= mes <= 12:\n",
        "        return True\n",
        "    else:\n",
        "        return False\n",
        "\n",
        "def validar_temperatura(temperatura):\n",
        "    \"\"\"\n",
        "    Valida se a temperatura está entre -60°C e 50°C.\n",
        "\n",
        "    Exemplo de uso:\n",
        "    validar_temperatura(25.5)  # Retorna True\n",
        "    validar_temperatura(-70)  # Retorna False\n",
        "\n",
        "    A validação é importante para garantir que a temperatura esteja dentro de um\n",
        "    intervalo razoável, evitando dados extremos que possam distorcer a análise.\n",
        "    \"\"\"\n",
        "    if -60 <= temperatura <= 50:\n",
        "        return True\n",
        "    else:\n",
        "        return False\n",
        "\n",
        "temperaturas = []\n",
        "meses = []\n",
        "for i in range(12):\n",
        "    while True:\n",
        "        try:\n",
        "            mes = int(input(f\"Digite o número do mês {i + 1} (1-12): \"))\n",
        "            if validar_mes(mes):\n",
        "                break  # Sai do loop interno se o mês for válido\n",
        "            else:\n",
        "                print(\"Mês inválido. Digite um número entre 1 e 12.\")\n",
        "        except ValueError:\n",
        "            print(\"Entrada inválida. Digite um número inteiro.\")\n",
        "    meses.append(mes)  # Adiciona o mês válido à lista\n",
        "    while True:\n",
        "        try:\n",
        "            temperatura = float(input(f\"Digite a temperatura máxima do mês {mes}: \"))\n",
        "            if validar_temperatura(temperatura):\n",
        "                break  # Sai do loop interno se a temperatura for válida\n",
        "            else:\n",
        "                print(\"Temperatura inválida. Digite um valor entre -60°C e 50°C.\")\n",
        "        except ValueError:\n",
        "            print(\"Entrada inválida. Digite um número.\")\n",
        "    temperaturas.append(temperatura)  # Adiciona a temperatura válida à lista\n",
        "\n",
        "media_anual = sum(temperaturas) / 12  # Calcula a média das temperaturas máximas\n",
        "# A média anual fornece uma visão geral da temperatura máxima média ao longo do ano.\n",
        "\n",
        "meses_escaldantes = sum(1 for temp in temperaturas if temp > 33)\n",
        "# Conta quantos meses tiveram temperaturas máximas acima de 33°C, indicando meses \"escaldantes\".\n",
        "\n",
        "mes_mais_quente = meses[temperaturas.index(max(temperaturas))]\n",
        "# Identifica o mês com a maior temperatura máxima usando o índice da temperatura máxima na lista.\n",
        "\n",
        "mes_mais_frio = meses[temperaturas.index(min(temperaturas))]\n",
        "# Identifica o mês com a menor temperatura máxima usando o índice da temperatura mínima na lista.\n",
        "\n",
        "nomes_meses = {\n",
        "    1: \"Janeiro\", 2: \"Fevereiro\", 3: \"Março\", 4: \"Abril\", 5: \"Maio\", 6: \"Junho\",\n",
        "    7: \"Julho\", 8: \"Agosto\", 9: \"Setembro\", 10: \"Outubro\", 11: \"Novembro\", 12: \"Dezembro\"\n",
        "}\n",
        "# Mapeia números de meses para nomes para exibição.\n",
        "\n",
        "print(f\"Temperatura média máxima anual: {media_anual:.2f}°C\")\n",
        "# Exibe a média anual formatada com duas casas decimais.\n",
        "\n",
        "print(f\"Meses escaldantes (temperatura > 33°C): {meses_escaldantes}\")\n",
        "# Exibe o número de meses escaldantes.\n",
        "\n",
        "print(f\"Mês mais quente: {nomes_meses[mes_mais_quente]}\")\n",
        "# Exibe o nome do mês mais quente usando o dicionário nomes_meses.\n",
        "\n",
        "print(f\"Mês mais frio: {nomes_meses[mes_mais_frio]}\")\n",
        "# Exibe o nome do mês mais frio usando o dicionário nomes_meses\n",
        "\n",
        "# Teste 1: Todos os meses com temperaturas válidas\n",
        "# Dados: [30, 28, 25, 22, 20, 18, 17, 19, 21, 23, 26, 29]\n",
        "# Resultado esperado: Média anual, meses escaldantes, mês mais quente, mês mais frio.\n",
        "\n",
        "# Teste 2: Alguns meses com temperaturas inválidas\n",
        "# Dados: [30, 28, -70, 22, 20, 18, 17, 19, 21, 23, 26, 29]\n",
        "# Resultado esperado: Mensagens de erro para temperaturas inválidas, cálculo correto com dados válidos.\n",
        "\n",
        "# Teste 3: Meses com temperaturas extremas\n",
        "# Dados: [50, 45, 40, -60, -55, -50, 35, 30, 25, 20, 15, 10]\n",
        "# Resultado esperado: Cálculo correto com temperaturas extremas dentro dos limites.\n",
        "\n",
        "# Considerações Finais:\n",
        "# - A validação de dados foi crucial para garantir a robustez do programa.\n",
        "# - A formatação de string (f-strings) facilitou a exibição dos resultados.\n",
        "# - Possíveis melhorias: Adicionar mais métricas estatísticas, como mediana e desvio padrão.\n",
        "# - Lições aprendidas: A importância da documentação detalhada e testes abrangentes."
      ],
      "metadata": {
        "colab": {
          "base_uri": "https://localhost:8080/"
        },
        "id": "7zjZgXkKa1i4",
        "outputId": "33a94a5a-b3ba-4665-b7a9-84723f89ca44"
      },
      "execution_count": null,
      "outputs": [
        {
          "name": "stdout",
          "output_type": "stream",
          "text": [
            "Digite o número do mês 1 (1-12): 1\n",
            "Digite a temperatura máxima do mês 1: 34.3\n",
            "Digite o número do mês 2 (1-12): 2\n",
            "Digite a temperatura máxima do mês 2: 36\n",
            "Digite o número do mês 3 (1-12): 31\n",
            "Mês inválido. Digite um número entre 1 e 12.\n",
            "Digite o número do mês 3 (1-12): 3\n",
            "Digite a temperatura máxima do mês 3: 31\n",
            "Digite o número do mês 4 (1-12): 4\n",
            "Digite a temperatura máxima do mês 4: 31.7\n",
            "Digite o número do mês 5 (1-12): 5\n",
            "Digite a temperatura máxima do mês 5: 31\n",
            "Digite o número do mês 6 (1-12): 6\n",
            "Digite a temperatura máxima do mês 6: 20\n"
          ]
        }
      ]
    }
  ]
}